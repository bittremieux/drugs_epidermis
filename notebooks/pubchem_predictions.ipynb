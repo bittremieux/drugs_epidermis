{
 "cells": [
  {
   "cell_type": "code",
   "execution_count": null,
   "metadata": {},
   "outputs": [],
   "source": [
    "import pickle\n",
    "\n",
    "import matplotlib.pyplot as plt\n",
    "import numpy as np\n",
    "import pandas as pd\n",
    "import seaborn as sns\n",
    "from mordred import Calculator, descriptors\n",
    "from rdkit import Chem, RDLogger"
   ]
  },
  {
   "cell_type": "code",
   "execution_count": null,
   "metadata": {},
   "outputs": [],
   "source": [
    "import warnings\n",
    "warnings.filterwarnings('ignore', category=RuntimeWarning)\n",
    "warnings.filterwarnings('ignore', category=UserWarning)\n",
    "RDLogger.DisableLog('rdApp.*')"
   ]
  },
  {
   "cell_type": "code",
   "execution_count": null,
   "metadata": {},
   "outputs": [],
   "source": [
    "# Plot styling.\n",
    "plt.style.use(['seaborn-white', 'seaborn-paper'])\n",
    "plt.rc('font', family='sans-serif')\n",
    "sns.set_palette('Set1')\n",
    "sns.set_context('paper', font_scale=1.3)"
   ]
  },
  {
   "cell_type": "code",
   "execution_count": null,
   "metadata": {},
   "outputs": [],
   "source": [
    "class CorrelationTreshold:\n",
    "    \n",
    "    def __init__(self, threshold=None):\n",
    "        self.threshold = threshold if threshold is not None else 1.0\n",
    "    \n",
    "    def fit(self, X, y=None):\n",
    "        corr = np.abs(np.corrcoef(X, rowvar=False))\n",
    "        self.mask = ~(np.triu(corr, k=1) > self.threshold).any(axis=1)\n",
    "        return self\n",
    "    \n",
    "    def transform(self, X, y=None):\n",
    "        return X[:, self.mask]\n",
    "    \n",
    "    def fit_transform(self, X, y=None):\n",
    "        return self.fit(X, y).transform(X, y)\n",
    "    \n",
    "    def get_support(self, indices=False):\n",
    "        return self.mask if not indices else np.where(self.mask)[0]"
   ]
  },
  {
   "cell_type": "code",
   "execution_count": null,
   "metadata": {},
   "outputs": [],
   "source": [
    "# Load the trained classifier.\n",
    "with open('rf.pickle', 'rb') as pf:\n",
    "    classifier = pickle.load(pf)"
   ]
  },
  {
   "cell_type": "code",
   "execution_count": null,
   "metadata": {},
   "outputs": [],
   "source": [
    "# Calculate features using Mordred.\n",
    "mordred_calculator = Calculator(descriptors, ignore_3D=True)"
   ]
  },
  {
   "cell_type": "code",
   "execution_count": null,
   "metadata": {},
   "outputs": [],
   "source": [
    "# Get the original feature labels used during training.\n",
    "compounds = pd.read_csv('../data/compound_smiles.csv')\n",
    "mols = compounds['SMILES (Canonical)'].apply(Chem.MolFromSmiles)\n",
    "features_orig = pd.DataFrame(mordred_calculator.pandas(mols)\n",
    "                             .select_dtypes(exclude='object')\n",
    "                             .astype(np.float32))\n",
    "feature_labels = features_orig.columns"
   ]
  },
  {
   "cell_type": "code",
   "execution_count": null,
   "metadata": {},
   "outputs": [],
   "source": [
    "# Read PubChem SMILES data.\n",
    "# https://chemistry.stackexchange.com/a/122118\n",
    "compounds = pd.read_csv('../data/CID-SMILES', sep='\\t', header=None,\n",
    "                        names=['SMILES'], index_col=0, squeeze=True, nrows=1000)\n",
    "mols = compounds.apply(Chem.MolFromSmiles)\n",
    "# Exclude features not encountered during training.\n",
    "features = pd.DataFrame(mordred_calculator.pandas(mols)[feature_labels]\n",
    "                        .astype(np.float32))"
   ]
  },
  {
   "cell_type": "code",
   "execution_count": null,
   "metadata": {},
   "outputs": [],
   "source": [
    "pred_scores = classifier.predict_proba(features.values)[:, 1]"
   ]
  },
  {
   "cell_type": "code",
   "execution_count": null,
   "metadata": {},
   "outputs": [],
   "source": [
    "width = 7\n",
    "height = width / 1.618    # Golden ratio.\n",
    "fig, ax = plt.subplots(figsize=(width, height))\n",
    "\n",
    "sns.histplot(pred_scores, bins=np.arange(0, 1.01, 0.05))\n",
    "\n",
    "ax.set_xlabel('Predicted probability to observe on epidermis')\n",
    "\n",
    "sns.despine()\n",
    "\n",
    "plt.savefig('pubchem_predictions.png', dpi=300, bbox_inches='tight')\n",
    "plt.show()\n",
    "plt.close()"
   ]
  }
 ],
 "metadata": {
  "kernelspec": {
   "display_name": "Python 3",
   "language": "python",
   "name": "python3"
  },
  "language_info": {
   "codemirror_mode": {
    "name": "ipython",
    "version": 3
   },
   "file_extension": ".py",
   "mimetype": "text/x-python",
   "name": "python",
   "nbconvert_exporter": "python",
   "pygments_lexer": "ipython3",
   "version": "3.8.6"
  }
 },
 "nbformat": 4,
 "nbformat_minor": 4
}
