{
 "cells": [
  {
   "cell_type": "code",
   "execution_count": null,
   "id": "every-conducting",
   "metadata": {},
   "outputs": [],
   "source": [
    "import itertools\n",
    "\n",
    "import matplotlib.pyplot as plt\n",
    "import pandas as pd\n",
    "import seaborn as sns"
   ]
  },
  {
   "cell_type": "code",
   "execution_count": null,
   "id": "pursuant-multiple",
   "metadata": {},
   "outputs": [],
   "source": [
    "redu_sample_info = pd.read_csv(\n",
    "    'http://redu.ucsd.edu/dump', sep='\\t',\n",
    "    usecols=['filename', 'NCBITaxonomy', 'UBERONOntologyIndex'])\n",
    "redu_sample_info = redu_sample_info[\n",
    "    redu_sample_info['NCBITaxonomy'] == '9606|Homo sapiens']\n",
    "lib_search = pd.read_csv(\n",
    "    '../data/external/'\n",
    "    'MOLECULAR-LIBRARYSEARCH-V2-53e265f8-view_compound_occurrence-main.tsv',\n",
    "    sep='\\t').drop(columns=['TotalFiles'])\n",
    "curated_drugs = pd.read_csv(\n",
    "    'https://docs.google.com/spreadsheets/d/'\n",
    "    '1bxmvCxA4fVovkgorolGJVgMTrHfZObsiSfbr1Dn7AsU/'\n",
    "    'export?gid=791719573&format=csv',\n",
    "    usecols=['ReDU_GNPS_Annotation']).squeeze().str.lower().unique()"
   ]
  },
  {
   "cell_type": "code",
   "execution_count": null,
   "id": "consecutive-breathing",
   "metadata": {},
   "outputs": [],
   "source": [
    "identified_drugs = lib_search[lib_search['LibraryID'].str.lower()\n",
    "                              .isin(curated_drugs)]"
   ]
  },
  {
   "cell_type": "code",
   "execution_count": null,
   "id": "changing-debate",
   "metadata": {},
   "outputs": [],
   "source": [
    "drugs_body_part = (pd.merge(identified_drugs.set_index('LibraryID').T,\n",
    "                            redu_sample_info, left_index=True,\n",
    "                            right_on='filename')\n",
    "                   .drop(columns=['filename'])\n",
    "                   .groupby('UBERONOntologyIndex').sum())"
   ]
  },
  {
   "cell_type": "code",
   "execution_count": null,
   "id": "drawn-gibraltar",
   "metadata": {},
   "outputs": [],
   "source": [
    "body_part_counts = (redu_sample_info['UBERONOntologyIndex']\n",
    "                    .value_counts().to_frame()\n",
    "                    .rename(columns={'UBERONOntologyIndex': 'total'}))\n",
    "drugs_body_part_all = (drugs_body_part.sum(axis='columns')\n",
    "                       .to_frame().reset_index()\n",
    "                       .rename(columns={'UBERONOntologyIndex': 'accession',\n",
    "                                        0: 'count'}))\n",
    "drugs_body_part_all = pd.merge(drugs_body_part_all, body_part_counts,\n",
    "                               left_on='accession', right_index=True)\n",
    "drugs_body_part_all['count'] = ((drugs_body_part_all['count']\n",
    "                                 / drugs_body_part_all['total'] * 100)\n",
    "                                .astype(int))\n",
    "drugs_body_part_all = pd.DataFrame(itertools.chain(\n",
    "    *[[accession] * count for accession, count in zip(\n",
    "        drugs_body_part_all['accession'], drugs_body_part_all['count'])]),\n",
    "                    columns=['accession'])\n",
    "drugs_body_part_all['coord'] = drugs_body_part_all['accession'].map(\n",
    "    {'UBERON:0001085': [(250, 300)],              # torso\n",
    "     'UBERON:0001511': [(205, 500), (295, 500)],  # leg\n",
    "     'UBERON:0001513': [(200, 625), (300, 625)],  # foot\n",
    "     'UBERON:0001519': [(120, 340), (380, 340)],  # hand\n",
    "     'UBERON:0002427': [(160, 275), (340, 275)],  # arm\n",
    "     'UBERON:0012180': [(250, 100)],              # head\n",
    "     'UBERON:0015474': [(190, 175), (310, 175)]}) # shoulder\n",
    "drugs_body_part_all = (drugs_body_part_all.explode('coord')\n",
    "                       .reset_index(drop=True))\n",
    "drugs_body_part_all = pd.concat(\n",
    "    [drugs_body_part_all, drugs_body_part_all['coord'].apply(pd.Series)],\n",
    "    axis='columns', ignore_index=True)\n",
    "drugs_body_part_all = (drugs_body_part_all.drop(columns=[1])\n",
    "                       .rename(columns={0: 'accession', 2: 'x', 3: 'y'}))"
   ]
  },
  {
   "cell_type": "code",
   "execution_count": null,
   "id": "lined-louisiana",
   "metadata": {},
   "outputs": [],
   "source": [
    "width = 7\n",
    "height = width / 1.618\n",
    "fig, ax = plt.subplots(figsize=(width, height))\n",
    "\n",
    "ax.set_facecolor('#471164')\n",
    "\n",
    "ax.imshow(plt.imread('body.png'), zorder=2)\n",
    "\n",
    "sns.kdeplot(data=drugs_body_part_all, x='x', y='y', cbar=True,\n",
    "            cbar_kws={'shrink': 0.75, 'pad': 0, 'ticks': [],\n",
    "                      'label': 'Drugs skin frequency'},\n",
    "            ax=ax, levels=50, thresh=0, bw_adjust=0.4, fill=True,\n",
    "            cmap='viridis')\n",
    "\n",
    "sns.despine(left=True, bottom=True)\n",
    "ax.set_xticks([])\n",
    "ax.set_yticks([])\n",
    "ax.set_xlabel('')\n",
    "ax.set_ylabel('')\n",
    "\n",
    "plt.savefig('body_map.png', dpi=300, bbox_inches='tight', facecolor='white')\n",
    "plt.show()\n",
    "plt.close()"
   ]
  }
 ],
 "metadata": {
  "kernelspec": {
   "display_name": "Python 3",
   "language": "python",
   "name": "python3"
  },
  "language_info": {
   "codemirror_mode": {
    "name": "ipython",
    "version": 3
   },
   "file_extension": ".py",
   "mimetype": "text/x-python",
   "name": "python",
   "nbconvert_exporter": "python",
   "pygments_lexer": "ipython3",
   "version": "3.8.8"
  }
 },
 "nbformat": 4,
 "nbformat_minor": 5
}
