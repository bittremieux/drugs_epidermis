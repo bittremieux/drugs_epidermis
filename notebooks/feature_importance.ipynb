{
 "cells": [
  {
   "cell_type": "code",
   "execution_count": null,
   "metadata": {},
   "outputs": [],
   "source": [
    "import joblib\n",
    "import matplotlib.colors as mcolors\n",
    "import matplotlib.pyplot as plt\n",
    "import numpy as np\n",
    "import pandas as pd\n",
    "import seaborn as sns\n",
    "import shap\n",
    "from mordred import Calculator, descriptors\n",
    "from rdkit import Chem\n",
    "from sklearn.preprocessing import MinMaxScaler, RobustScaler"
   ]
  },
  {
   "cell_type": "code",
   "execution_count": null,
   "metadata": {},
   "outputs": [],
   "source": [
    "import warnings\n",
    "warnings.filterwarnings('ignore', category=DeprecationWarning)\n",
    "warnings.filterwarnings('ignore', category=UserWarning)"
   ]
  },
  {
   "cell_type": "code",
   "execution_count": null,
   "metadata": {},
   "outputs": [],
   "source": [
    "# Plot styling.\n",
    "plt.style.use(['seaborn-white', 'seaborn-paper'])\n",
    "plt.rc('font', family='sans-serif')\n",
    "sns.set_palette(['#6da7de', '#9e0059', '#dee000', '#d82222', '#5ea15d',\n",
    "                 '#943fa6', '#63c5b5', '#ff38ba', '#eb861e', '#ee266d'])\n",
    "sns.set_context('paper', font_scale=1.3)"
   ]
  },
  {
   "cell_type": "code",
   "execution_count": null,
   "metadata": {},
   "outputs": [],
   "source": [
    "np.random.seed(42)"
   ]
  },
  {
   "cell_type": "markdown",
   "metadata": {},
   "source": [
    "## Generate features"
   ]
  },
  {
   "cell_type": "code",
   "execution_count": null,
   "metadata": {},
   "outputs": [],
   "source": [
    "mordred_calculator = Calculator(descriptors, ignore_3D=True)"
   ]
  },
  {
   "cell_type": "code",
   "execution_count": null,
   "metadata": {},
   "outputs": [],
   "source": [
    "# Get the original feature labels used during training.\n",
    "compounds = pd.read_csv('../data/compound_smiles.csv')\n",
    "mols = compounds['smiles'].apply(Chem.MolFromSmiles)\n",
    "features_train = pd.DataFrame(mordred_calculator.pandas(mols)\n",
    "                              .select_dtypes(exclude='object')\n",
    "                              .astype(np.float32))\n",
    "feature_labels = features_train.columns\n",
    "clss = compounds['skin'].astype(np.int32)"
   ]
  },
  {
   "cell_type": "code",
   "execution_count": null,
   "metadata": {},
   "outputs": [],
   "source": [
    "approved_drugs = pd.read_csv('../data/processed/fda.csv')\n",
    "mols = approved_drugs['smiles'].apply(Chem.MolFromSmiles)\n",
    "features_approved_drugs = (pd.DataFrame(mordred_calculator.pandas(mols)\n",
    "                                        [feature_labels]\n",
    "                                        .astype(np.float32)))"
   ]
  },
  {
   "cell_type": "code",
   "execution_count": null,
   "metadata": {},
   "outputs": [],
   "source": [
    "biotransformations = pd.read_csv(\n",
    "    '../data/processed/fda_biotransformations.csv')\n",
    "mols = biotransformations['smiles'].apply(Chem.MolFromSmiles)\n",
    "features_biotransformations = (pd.DataFrame(mordred_calculator.pandas(mols)\n",
    "                                            [feature_labels]\n",
    "                                            .astype(np.float32)))"
   ]
  },
  {
   "cell_type": "markdown",
   "metadata": {},
   "source": [
    "## SHAP feature importances"
   ]
  },
  {
   "cell_type": "code",
   "execution_count": null,
   "metadata": {},
   "outputs": [],
   "source": [
    "# Feature importances.\n",
    "classifier = joblib.load('rf.joblib')\n",
    "predict_proba = lambda x: classifier.predict_proba(x)[:,1]\n",
    "explainer = shap.KernelExplainer(\n",
    "    predict_proba, shap.kmeans(features_train.values, 50), link='logit')"
   ]
  },
  {
   "cell_type": "code",
   "execution_count": null,
   "metadata": {},
   "outputs": [],
   "source": [
    "shap_train = explainer.shap_values(features_train)"
   ]
  },
  {
   "cell_type": "code",
   "execution_count": null,
   "metadata": {},
   "outputs": [],
   "source": [
    "shap_approved_drugs = explainer.shap_values(features_approved_drugs)"
   ]
  },
  {
   "cell_type": "code",
   "execution_count": null,
   "metadata": {},
   "outputs": [],
   "source": [
    "shap_biotransformations = explainer.shap_values(features_biotransformations)"
   ]
  },
  {
   "cell_type": "code",
   "execution_count": null,
   "metadata": {},
   "outputs": [],
   "source": [
    "_ = joblib.dump((shap_train, shap_approved_drugs, shap_biotransformations),\n",
    "                'feature_importance.joblib')"
   ]
  },
  {
   "cell_type": "markdown",
   "metadata": {},
   "source": [
    "## Plotting"
   ]
  },
  {
   "cell_type": "code",
   "execution_count": null,
   "metadata": {},
   "outputs": [],
   "source": [
    "def rand_jitter(arr):\n",
    "    return arr + np.random.randn(len(arr)) * .075\n",
    "\n",
    "\n",
    "width = 7\n",
    "height = width / 1.618    # Golden ratio.\n",
    "fig, ax = plt.subplots(figsize=(height, width))\n",
    "\n",
    "importances = np.abs(np.mean(shap_train, axis=0))\n",
    "order = np.argsort(importances)[::-1]\n",
    "n_features = 20\n",
    "for i in range(n_features):\n",
    "    c = features_train[feature_labels[order[i]]].values.reshape(-1, 1)\n",
    "    c = RobustScaler().fit_transform(c)\n",
    "    c = MinMaxScaler().fit_transform(c)\n",
    "    sc = ax.scatter(\n",
    "        shap_train[:, order[i]],\n",
    "        rand_jitter(np.repeat(n_features - i, c.shape[0])),\n",
    "        c=c,\n",
    "        marker='.',\n",
    "        alpha=0.5,\n",
    "        cmap='viridis',\n",
    "        zorder=10)\n",
    "ax.axvline(0, c='lightgray')\n",
    "\n",
    "cbar_ax = fig.add_axes([0.95, 0.2, 0.025, 0.6])\n",
    "colorbar = fig.colorbar(sc, ticks=[0, 1], cax=cbar_ax)\n",
    "colorbar.solids.set(alpha=1)\n",
    "colorbar.ax.set_yticklabels(['Low', 'High'])\n",
    "colorbar.set_label('Feature value', labelpad=-15)\n",
    "\n",
    "ax.set_xlabel('SHAP feature importance')\n",
    "ax.set_yticks(np.arange(1, n_features + 1))\n",
    "ax.set_yticklabels(feature_labels[order][:n_features][::-1])\n",
    "\n",
    "sns.despine()\n",
    "\n",
    "plt.savefig('feature_importance_train.png', dpi=300, bbox_inches='tight')\n",
    "plt.show()\n",
    "plt.close()"
   ]
  },
  {
   "cell_type": "code",
   "execution_count": null,
   "metadata": {},
   "outputs": [],
   "source": [
    "width = 7\n",
    "height = width / 1.618    # Golden ratio.\n",
    "fig, ax = plt.subplots(figsize=(width, height))\n",
    "\n",
    "importances = np.abs(np.mean(shap_train, axis=0))\n",
    "order = np.argsort(importances)[::-1]\n",
    "sns.barplot(x=np.arange(20), y=importances[order][:20], color='#6da7de')\n",
    "\n",
    "ax.set_xticklabels(feature_labels[order][:20], rotation=90)\n",
    "ax.set_ylabel('SHAP feature importance')\n",
    "\n",
    "sns.despine()\n",
    "\n",
    "plt.savefig('feature_importance_train.png', dpi=300, bbox_inches='tight')\n",
    "plt.show()\n",
    "plt.close()"
   ]
  },
  {
   "cell_type": "code",
   "execution_count": null,
   "metadata": {},
   "outputs": [],
   "source": [
    "width = 7\n",
    "height = width / 1.618    # Golden ratio.\n",
    "fig, ax = plt.subplots(figsize=(width, height))\n",
    "\n",
    "importances = np.abs(np.mean(shap_approved_drugs, axis=0))\n",
    "order = np.argsort(importances)[::-1]\n",
    "sns.barplot(x=np.arange(20), y=importances[order][:20], color='#6da7de')\n",
    "\n",
    "ax.set_xticklabels(feature_labels[order][:20], rotation=90)\n",
    "ax.set_ylabel('SHAP feature importance')\n",
    "\n",
    "sns.despine()\n",
    "\n",
    "plt.savefig('feature_importance_fda.png', dpi=300, bbox_inches='tight')\n",
    "plt.show()\n",
    "plt.close()"
   ]
  },
  {
   "cell_type": "code",
   "execution_count": null,
   "metadata": {},
   "outputs": [],
   "source": [
    "width = 7\n",
    "height = width / 1.618    # Golden ratio.\n",
    "fig, ax = plt.subplots(figsize=(width, height))\n",
    "\n",
    "importances = np.abs(np.mean(shap_biotransformations, axis=0))\n",
    "order = np.argsort(importances)[::-1]\n",
    "sns.barplot(x=np.arange(20), y=importances[order][:20], color='#6da7de')\n",
    "\n",
    "ax.set_xticklabels(feature_labels[order][:20], rotation=90)\n",
    "ax.set_ylabel('SHAP feature importance')\n",
    "\n",
    "sns.despine()\n",
    "\n",
    "plt.savefig('feature_importance_biotransformations.png', dpi=300,\n",
    "            bbox_inches='tight')\n",
    "plt.show()\n",
    "plt.close()"
   ]
  },
  {
   "cell_type": "code",
   "execution_count": null,
   "metadata": {},
   "outputs": [],
   "source": [
    "width = 7\n",
    "height = width / 1.618    # Golden ratio.\n",
    "fig, ax = plt.subplots(figsize=(width, height))\n",
    "\n",
    "feature = 'ATSC7v'\n",
    "column_i = features_train.columns.get_loc(feature)\n",
    "ax.scatter(features_train[feature], shap_train[:, column_i])\n",
    "\n",
    "ax.set_xlabel(feature)\n",
    "ax.set_ylabel('SHAP value')\n",
    "\n",
    "sns.despine()\n",
    "\n",
    "plt.savefig(f'feature_importance_{feature}.png', dpi=300, bbox_inches='tight')\n",
    "plt.show()\n",
    "plt.close()"
   ]
  },
  {
   "cell_type": "markdown",
   "metadata": {},
   "source": [
    "## Prediction case studies"
   ]
  },
  {
   "cell_type": "code",
   "execution_count": null,
   "metadata": {},
   "outputs": [],
   "source": [
    "test_compounds = pd.DataFrame(\n",
    "    [('Citalopram', 'CN(C)CCCC1(C2=C(CO1)C=C(C=C2)C#N)C3=CC=C(C=C3)F'),\n",
    "     ('Diphenhydramine', 'CN(CCOC(c1ccccc1)c1ccccc1)C'),\n",
    "     ('Diphenhydramine N-hexose', 'O[C@H]([C@H]([C@@H]([C@H](O1)CO)O)O)C1[N+](C)(C)CCOC(C2=CC=CC=C2)C3=CC=CC=C3'),\n",
    "     ('Tacrolimus', 'CC1CC(C2C(CC(C(O2)(C(=O)C(=O)N3CCCCC3C(=O)OC(C(C(CC(=O)C(C=C(C1)C)CC=C)O)C)C(=CC4CCC(C(C4)OC)O)C)O)C)OC)OC')],\n",
    "    columns=['compound_name', 'smiles'])\n",
    "\n",
    "# Train the classifier and Shap without the test compounds.\n",
    "idx = compounds[~compounds['compound_name'].isin(\n",
    "    test_compounds['compound_name'])].index.values\n",
    "classifier = joblib.load('rf.joblib').fit(features_train.values[idx], clss[idx])\n",
    "predict_proba = lambda x: classifier.predict_proba(x)[:,1]\n",
    "explainer = shap.KernelExplainer(\n",
    "    predict_proba, shap.kmeans(features_train.values[idx], 50), link='logit')\n",
    "\n",
    "# Get predictions and feature importances for the test compounds.\n",
    "test_features = pd.DataFrame(\n",
    "    mordred_calculator.pandas(test_compounds['smiles']\n",
    "                              .apply(Chem.MolFromSmiles),\n",
    "                              nproc=1, quiet=True)\n",
    "    [features_train.columns].astype(np.float32))\n",
    "test_pred = classifier.predict_proba(test_features.values)[:, 1]\n",
    "test_shap = explainer.shap_values(test_features)\n",
    "\n",
    "for i, (compound, contribution_threshold) in enumerate(\n",
    "        zip(test_compounds['compound_name'], (0.025, 0.025, 0.03, 0.03))):\n",
    "    print(f'Score for {compound}: {test_pred[i]:.2f}')\n",
    "    shap.plots.force(explainer.expected_value, test_shap[i],\n",
    "                     test_features.iloc[i].round(2).astype(str),\n",
    "                     matplotlib=True, show=False, text_rotation=90,\n",
    "                     contribution_threshold=contribution_threshold)\n",
    "    plt.savefig(f'shap_{compound}.png', dpi=300, bbox_inches='tight')\n",
    "    plt.show()"
   ]
  }
 ],
 "metadata": {
  "kernelspec": {
   "display_name": "Python 3",
   "language": "python",
   "name": "python3"
  },
  "language_info": {
   "codemirror_mode": {
    "name": "ipython",
    "version": 3
   },
   "file_extension": ".py",
   "mimetype": "text/x-python",
   "name": "python",
   "nbconvert_exporter": "python",
   "pygments_lexer": "ipython3",
   "version": "3.8.8"
  }
 },
 "nbformat": 4,
 "nbformat_minor": 4
}
