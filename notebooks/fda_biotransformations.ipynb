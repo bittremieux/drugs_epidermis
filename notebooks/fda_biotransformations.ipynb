{
 "cells": [
  {
   "cell_type": "code",
   "execution_count": null,
   "metadata": {},
   "outputs": [],
   "source": [
    "import os\n",
    "import subprocess\n",
    "\n",
    "import joblib\n",
    "import matplotlib.pyplot as plt\n",
    "import matplotlib.ticker as mticker\n",
    "import numpy as np\n",
    "import pandas as pd\n",
    "import seaborn as sns\n",
    "import tqdm.notebook as tqdm\n",
    "import xml.etree.ElementTree as ET\n",
    "from mordred import Calculator, descriptors\n",
    "from rdkit import Chem, RDLogger\n",
    "\n",
    "from correlation_threshold import CorrelationThreshold"
   ]
  },
  {
   "cell_type": "code",
   "execution_count": null,
   "metadata": {},
   "outputs": [],
   "source": [
    "import warnings\n",
    "warnings.filterwarnings('ignore', category=RuntimeWarning)\n",
    "warnings.filterwarnings('ignore', category=UserWarning)\n",
    "RDLogger.DisableLog('rdApp.*')"
   ]
  },
  {
   "cell_type": "code",
   "execution_count": null,
   "metadata": {},
   "outputs": [],
   "source": [
    "# Plot styling.\n",
    "plt.style.use(['seaborn-white', 'seaborn-paper'])\n",
    "plt.rc('font', family='sans-serif')\n",
    "sns.set_palette('Set1')\n",
    "sns.set_context('paper', font_scale=1.3)\n",
    "sns.set_palette(['#6da7de', '#9e0059', '#dee000', '#d82222', '#5ea15d',\n",
    "                 '#943fa6', '#63c5b5', '#ff38ba', '#eb861e', '#ee266d'])"
   ]
  },
  {
   "cell_type": "markdown",
   "metadata": {},
   "source": [
    "## Parse FDA approved drugs from DrugBank"
   ]
  },
  {
   "cell_type": "code",
   "execution_count": null,
   "metadata": {},
   "outputs": [],
   "source": [
    "if not os.path.isfile('../data/processed/fda.csv'):\n",
    "    # Parse DrugBank XML file.\n",
    "    ns = '{http://www.drugbank.ca}'\n",
    "    tree = ET.parse('../data/external/drugbank_517.xml')\n",
    "    rows = [(drug.findtext(ns + 'drugbank-id[@primary=\"true\"]'),\n",
    "             drug.findtext(ns + 'name'),\n",
    "             '|'.join([group.text for group in\n",
    "                       drug.findall(f'{ns}groups/{ns}group')]),\n",
    "             '|'.join([code.get('code') for code in\n",
    "                       drug.findall(f'{ns}atc-codes/{ns}atc-code')]),\n",
    "             drug.findtext(f'{ns}calculated-properties/{ns}'\n",
    "                           f'property[{ns}kind=\"SMILES\"]/{ns}value'))\n",
    "            for drug in tree.getroot()]\n",
    "\n",
    "    approved_drugs = (pd.DataFrame(rows, columns=['drugbank_id', 'name',\n",
    "                                                  'groups', 'atc_codes',\n",
    "                                                  'smiles'])\n",
    "                     .dropna(subset=['smiles']))\n",
    "    # Filter on FDA approved drugs.\n",
    "    approved_drugs = approved_drugs[approved_drugs['groups']\n",
    "                                    .str.contains('approved')]\n",
    "    # Only retain drugs with valid and unique SMILES.\n",
    "    smiles = []\n",
    "    for drug_smiles in approved_drugs['smiles']:\n",
    "        mol = Chem.MolFromSmiles(drug_smiles)\n",
    "        smiles.append(Chem.MolToSmiles(mol, False)\n",
    "                      if mol is not None else None)\n",
    "    approved_drugs['smiles'] = smiles\n",
    "    approved_drugs = (approved_drugs.dropna(subset=['smiles'])\n",
    "                      .drop_duplicates('smiles')\n",
    "                      .reset_index(drop=True))\n",
    "    approved_drugs.to_csv('../data/processed/fda.csv', index=False)\n",
    "else:\n",
    "    approved_drugs = pd.read_csv('../data/processed/fda.csv')"
   ]
  },
  {
   "cell_type": "markdown",
   "metadata": {},
   "source": [
    "## Epidermis probability for FDA approved drugs"
   ]
  },
  {
   "cell_type": "code",
   "execution_count": null,
   "metadata": {},
   "outputs": [],
   "source": [
    "# Load the trained classifier.\n",
    "classifier = joblib.load('rf.joblib')"
   ]
  },
  {
   "cell_type": "code",
   "execution_count": null,
   "metadata": {},
   "outputs": [],
   "source": [
    "# Calculate features using Mordred.\n",
    "mordred_calculator = Calculator(descriptors, ignore_3D=True)"
   ]
  },
  {
   "cell_type": "code",
   "execution_count": null,
   "metadata": {},
   "outputs": [],
   "source": [
    "# Get the original feature labels used during training.\n",
    "compounds = pd.read_csv('../data/compound_smiles.csv')\n",
    "mols = compounds['smiles'].apply(Chem.MolFromSmiles)\n",
    "features_orig = pd.DataFrame(mordred_calculator.pandas(mols)\n",
    "                             .select_dtypes(exclude='object')\n",
    "                             .astype(np.float32))\n",
    "feature_labels = features_orig.columns"
   ]
  },
  {
   "cell_type": "code",
   "execution_count": null,
   "metadata": {},
   "outputs": [],
   "source": [
    "if 'epidermis_prob' not in approved_drugs.columns:\n",
    "    # Generate features for the FDA approved drugs.\n",
    "    # (Exclude features not encountered during training.)\n",
    "    mols = approved_drugs['smiles'].apply(Chem.MolFromSmiles)\n",
    "    features = pd.DataFrame(mordred_calculator.pandas(mols)[feature_labels]\n",
    "                            .astype(np.float32))\n",
    "\n",
    "    approved_drugs['epidermis_prob'] = \\\n",
    "        classifier.predict_proba(features.values)[:, 1]\n",
    "    approved_drugs.to_csv('../data/processed/fda.csv', index=False)\n",
    "else:\n",
    "    approved_drugs = pd.read_csv('../data/processed/fda.csv')"
   ]
  },
  {
   "cell_type": "code",
   "execution_count": null,
   "metadata": {},
   "outputs": [],
   "source": [
    "(approved_drugs.sort_values('epidermis_prob', ascending=False)\n",
    " [['name', 'epidermis_prob']].head(10))"
   ]
  },
  {
   "cell_type": "markdown",
   "metadata": {},
   "source": [
    "## Epidermis probability for drug biotransformation products"
   ]
  },
  {
   "cell_type": "code",
   "execution_count": null,
   "metadata": {},
   "outputs": [],
   "source": [
    "data_dir = os.path.abspath(os.path.join(\n",
    "    os.getcwd(), '../data/processed/biotransformer'))\n",
    "if not os.path.isdir(data_dir):\n",
    "    os.makedirs(data_dir)\n",
    "bin_dir = os.path.abspath(os.path.join(os.getcwd(), '../bin/biotransformer'))\n",
    "\n",
    "# https://bitbucket.org/djoumbou/biotransformer/\n",
    "def _biotransform(drugbank_id, smiles):\n",
    "    cmd = f\"\"\"cd \"{bin_dir}\" && \\\n",
    "        java -jar biotransformer-2.0.1.jar \\\n",
    "        -b allHuman \\\n",
    "        -ismi \"{smiles}\" \\\n",
    "        -k pred \\\n",
    "        -ocsv \"{data_dir}/{drugbank_id}.csv\" >/dev/null 2>&1\"\"\"\n",
    "    if not os.path.isfile(os.path.join(data_dir, f'{drugbank_id}.csv')):\n",
    "        subprocess.run(cmd, shell=True)"
   ]
  },
  {
   "cell_type": "code",
   "execution_count": null,
   "metadata": {},
   "outputs": [],
   "source": [
    "if not os.path.isfile('../data/processed/fda_biotransformations.csv'):\n",
    "    # Generate human biotransformation products.\n",
    "    joblib.Parallel(n_jobs=-1)(\n",
    "        joblib.delayed(_biotransform)(drugbank_id, smiles)\n",
    "        for drugbank_id, smiles in tqdm.tqdm(\n",
    "            zip(approved_drugs['drugbank_id'], approved_drugs['smiles']),\n",
    "            desc='Biotransformations predicted', total=len(approved_drugs)))\n",
    "    # Read all biotransformation files for each drug.\n",
    "    biotransformations = []\n",
    "    for drugbank_id in approved_drugs['drugbank_id']:\n",
    "        filename = os.path.join(data_dir, f'{drugbank_id}.csv')\n",
    "        if os.path.isfile(filename):\n",
    "            biotransform = pd.read_csv(filename, usecols=['SMILES'])\n",
    "            biotransform['drugbank_id'] = drugbank_id\n",
    "            biotransformations.append(biotransform)\n",
    "    biotransformations = (pd.merge(pd.concat(biotransformations),\n",
    "                                   approved_drugs[['drugbank_id',\n",
    "                                                   'atc_codes']],\n",
    "                                   on='drugbank_id')\n",
    "                       .copy().dropna()\n",
    "                       .rename(columns={'SMILES': 'smiles'}))\n",
    "    # Only retain biotransformations with valid and unique SMILES.\n",
    "    smiles = []\n",
    "    for biotransform_smiles in biotransformations['smiles']:\n",
    "        mol = Chem.MolFromSmiles(biotransform_smiles)\n",
    "        smiles.append(Chem.MolToSmiles(mol, False)\n",
    "                      if mol is not None else None)\n",
    "    biotransformations['smiles'] = smiles\n",
    "    biotransformations = (biotransformations.dropna(subset=['smiles'])\n",
    "                          .drop_duplicates('smiles')\n",
    "                          .reset_index(drop=True))\n",
    "    biotransformations.to_csv('../data/processed/fda_biotransformations.csv',\n",
    "                              index=False)\n",
    "else:\n",
    "    biotransformations = pd.read_csv(\n",
    "        '../data/processed/fda_biotransformations.csv')"
   ]
  },
  {
   "cell_type": "code",
   "execution_count": null,
   "metadata": {},
   "outputs": [],
   "source": [
    "if 'epidermis_prob' not in biotransformations.columns:\n",
    "    # Generate features for the biotransformations.\n",
    "    # (Exclude features not encountered during training.)\n",
    "    mols = biotransformations['smiles'].apply(Chem.MolFromSmiles)\n",
    "    features = pd.DataFrame(mordred_calculator.pandas(mols)[feature_labels]\n",
    "                            .astype(np.float32))\n",
    "    \n",
    "    biotransformations['epidermis_prob'] = \\\n",
    "        classifier.predict_proba(features.values)[:, 1]\n",
    "    biotransformations.to_csv('../data/processed/fda_biotransformations.csv',\n",
    "                              index=False)\n",
    "else:\n",
    "    biotransformations = pd.read_csv(\n",
    "        '../data/processed/fda_biotransformations.csv')"
   ]
  },
  {
   "cell_type": "markdown",
   "metadata": {},
   "source": [
    "## Plotting"
   ]
  },
  {
   "cell_type": "code",
   "execution_count": null,
   "metadata": {},
   "outputs": [],
   "source": [
    "atc_map = {'A': 'Alimentary tract and metabolism',\n",
    "           'B': 'Blood and blood forming organs',\n",
    "           'C': 'Cardiovascular system',\n",
    "           'D': 'Dermatologicals',\n",
    "           'G': 'Genito-urinary system and sex hormones',\n",
    "           'H': 'Systemic hormonal preparations, excluding sex hormones and insulins',\n",
    "           'J': 'Antiinfectives for systemic use',\n",
    "           'L': 'Antineoplastic and immunomodulating agents',\n",
    "           'M': 'Musculo-skeletal system',\n",
    "           'N': 'Nervous system',\n",
    "           'P': 'Antiparasitic products, insecticides and repellents',\n",
    "           'R': 'Respiratory system',\n",
    "           'S': 'Sensory organs',\n",
    "           'V': 'Various'}\n",
    "\n",
    "approved_drugs['type'] = 'FDA approved drugs'\n",
    "biotransformations['type'] = 'Human biotransformations'\n",
    "combined = pd.concat([approved_drugs, biotransformations], ignore_index=True)\n",
    "combined['atc_codes'] = combined['atc_codes'].str.split('|')\n",
    "combined = combined.explode('atc_codes')\n",
    "combined['atc_level1'] = combined['atc_codes'].str[:1].map(atc_map)"
   ]
  },
  {
   "cell_type": "code",
   "execution_count": null,
   "metadata": {},
   "outputs": [],
   "source": [
    "width = 7\n",
    "height = width / 1.618\n",
    "fig, ax = plt.subplots(figsize=(width, height))\n",
    "\n",
    "sns.kdeplot(data=combined, x='epidermis_prob', hue='type', ax=ax,\n",
    "            common_norm=False, fill=True)\n",
    "\n",
    "ax.set_xlim(0, 1.01)\n",
    "ax.xaxis.set_major_formatter(mticker.PercentFormatter(xmax=1))\n",
    "\n",
    "ax.set_xlabel('Predicted probability to observe on epidermis')\n",
    "\n",
    "ax.legend_.set_title('')\n",
    "\n",
    "sns.despine()\n",
    "\n",
    "plt.savefig('fda_biotransformations_predictions.png', dpi=300,\n",
    "            bbox_inches='tight')\n",
    "plt.show()\n",
    "plt.close()"
   ]
  },
  {
   "cell_type": "code",
   "execution_count": null,
   "metadata": {},
   "outputs": [],
   "source": [
    "width = 7\n",
    "height = width / 1.618\n",
    "fig, ax = plt.subplots(figsize=(width, height * 2))\n",
    "\n",
    "combined_atc = combined[~combined['atc_level1'].isin(['', 'Dermatologicals'])]\n",
    "order = (combined_atc.groupby(['atc_level1']).median()\n",
    "         .sort_values(by='epidermis_prob', ascending=False).index)\n",
    "\n",
    "sns.violinplot(x='epidermis_prob', y='atc_level1', hue='type',\n",
    "               data=combined_atc, order=order, split=True, orient='h', ax=ax)\n",
    "\n",
    "ax.set_xlim(0, 1.01)\n",
    "ax.xaxis.set_major_formatter(mticker.PercentFormatter(xmax=1))\n",
    "\n",
    "ax.set_xlabel('Predicted probability to observe on epidermis')\n",
    "ax.set_ylabel('ATC level 1')\n",
    "\n",
    "ax.legend(loc='upper center', bbox_to_anchor=(0.5, 1.06), ncol=2)\n",
    "\n",
    "sns.despine()\n",
    "\n",
    "plt.savefig('fda_biotransformations_predictions_atc.png', dpi=300,\n",
    "            bbox_inches='tight')\n",
    "plt.show()\n",
    "plt.close()"
   ]
  }
 ],
 "metadata": {
  "kernelspec": {
   "display_name": "Python 3",
   "language": "python",
   "name": "python3"
  },
  "language_info": {
   "codemirror_mode": {
    "name": "ipython",
    "version": 3
   },
   "file_extension": ".py",
   "mimetype": "text/x-python",
   "name": "python",
   "nbconvert_exporter": "python",
   "pygments_lexer": "ipython3",
   "version": "3.8.8"
  }
 },
 "nbformat": 4,
 "nbformat_minor": 4
}
