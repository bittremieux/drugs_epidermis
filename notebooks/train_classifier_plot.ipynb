{
 "cells": [
  {
   "cell_type": "code",
   "execution_count": null,
   "metadata": {},
   "outputs": [],
   "source": [
    "import joblib\n",
    "import matplotlib.pyplot as plt\n",
    "import numpy as np\n",
    "import seaborn as sns"
   ]
  },
  {
   "cell_type": "code",
   "execution_count": null,
   "metadata": {},
   "outputs": [],
   "source": [
    "# Plot styling.\n",
    "plt.style.use(['seaborn-white', 'seaborn-paper'])\n",
    "plt.rc('font', family='sans-serif')\n",
    "sns.set_palette(['#6da7de', '#9e0059', '#dee000', '#d82222', '#5ea15d',\n",
    "                 '#943fa6', '#63c5b5', '#ff38ba', '#eb861e', '#ee266d'])\n",
    "sns.set_context('paper', font_scale=1.3)"
   ]
  },
  {
   "cell_type": "code",
   "execution_count": null,
   "metadata": {},
   "outputs": [],
   "source": [
    "rf_stats, *_ = joblib.load('../data/processed/train_classifier_rf.joblib')\n",
    "lr_stats, *_ = joblib.load('../data/processed/train_classifier_lr.joblib')\n",
    "svm_stats, *_ = joblib.load('../data/processed/train_classifier_svm.joblib')"
   ]
  },
  {
   "cell_type": "code",
   "execution_count": null,
   "metadata": {},
   "outputs": [],
   "source": [
    "width = 7\n",
    "height = width / 1.618    # Golden ratio.\n",
    "fig, ax = plt.subplots(figsize=(width, height))\n",
    "\n",
    "interval = np.linspace(0, 1, 101)\n",
    "tpr_rf = rf_stats['tpr_mean_test']\n",
    "tpr_rf[0], tpr_rf[-1] = 0, 1\n",
    "tpr_lr = lr_stats['tpr_mean_test']\n",
    "tpr_lr[0], tpr_lr[-1] = 0, 1\n",
    "tpr_svm = svm_stats['tpr_mean_test']\n",
    "tpr_svm[0], tpr_svm[-1] = 0, 1\n",
    "ax.plot(interval, tpr_rf,\n",
    "        label=f'Random forest (AUC = {rf_stats[\"roc_auc_test\"]:.3f} '\n",
    "              f'± {rf_stats[\"roc_auc_std_test\"]:.3f})')\n",
    "ax.fill_between(interval, tpr_rf - rf_stats['tpr_std_test'],\n",
    "                tpr_rf + rf_stats['tpr_std_test'], alpha=0.2)\n",
    "ax.plot(interval, tpr_lr,\n",
    "        label=f'Logistic regression (AUC = {lr_stats[\"roc_auc_test\"]:.3f} '\n",
    "              f'± {lr_stats[\"roc_auc_std_test\"]:.3f})')\n",
    "ax.fill_between(interval, tpr_lr - lr_stats['tpr_std_test'],\n",
    "                tpr_lr + lr_stats['tpr_std_test'], alpha=0.2)\n",
    "ax.plot(interval, tpr_svm,\n",
    "        label=f'SVM (AUC = {svm_stats[\"roc_auc_test\"]:.3f} '\n",
    "              f'± {svm_stats[\"roc_auc_std_test\"]:.3f})')\n",
    "ax.fill_between(interval, tpr_svm - svm_stats['tpr_std_test'],\n",
    "                tpr_svm + svm_stats['tpr_std_test'], alpha=0.2)\n",
    "        \n",
    "ax.plot([0, 1], [0, 1], c='black', ls='--')\n",
    "\n",
    "ax.set_xlim(0, 1)\n",
    "ax.set_ylim(0, 1)\n",
    "\n",
    "ax.set_xlabel('False Positive Rate')\n",
    "ax.set_ylabel('True Positive Rate')\n",
    "\n",
    "ax.legend(loc='lower right', frameon=False)\n",
    "\n",
    "sns.despine()\n",
    "\n",
    "plt.savefig('train_classifier_roc.png', dpi=300, bbox_inches='tight')\n",
    "plt.show()\n",
    "plt.close()"
   ]
  }
 ],
 "metadata": {
  "kernelspec": {
   "display_name": "Python 3",
   "language": "python",
   "name": "python3"
  },
  "language_info": {
   "codemirror_mode": {
    "name": "ipython",
    "version": 3
   },
   "file_extension": ".py",
   "mimetype": "text/x-python",
   "name": "python",
   "nbconvert_exporter": "python",
   "pygments_lexer": "ipython3",
   "version": "3.8.8"
  }
 },
 "nbformat": 4,
 "nbformat_minor": 4
}
